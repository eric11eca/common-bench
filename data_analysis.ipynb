{
 "cells": [
  {
   "cell_type": "code",
   "execution_count": 5,
   "metadata": {},
   "outputs": [],
   "source": [
    "import pandas as pd\n",
    "import random \n",
    "import copy\n",
    "import uuid\n",
    "\n",
    "from common_bench.utils.py_io import *"
   ]
  },
  {
   "cell_type": "code",
   "execution_count": 6,
   "metadata": {},
   "outputs": [
    {
     "data": {
      "text/plain": [
       "{'story': 'Alexander entered the playroom. Jack entered the playroom. The potato is in the box. Emily entered the basement. Jack moved the potato to the suitcase. Alexander exited the playroom. Emily exited the basement. Alexander entered the playroom.',\n",
       " 'question': 'Where does Alexander think that Jack searches for the potato?',\n",
       " 'answer': 'suitcase',\n",
       " 'i': 1,\n",
       " 'dataGenSeq': 'enter_agent_1,enter_agent_0,agent_0_moves_obj,agent_2_enters,agent_1_exits,agent_1_reenters_loc,agent_2_exits',\n",
       " 'sType': 'true_belief',\n",
       " 'qTypeRaw': 'second_order_0_no_tom',\n",
       " 'qTypeTomOrNot': False,\n",
       " 'qOrder': 'second_order',\n",
       " 'storyHasToM': False,\n",
       " 'answerMem': 'box',\n",
       " 'answerReal': 'suitcase',\n",
       " 'qToMandOmniReader': False,\n",
       " 'answerMemOrReal': 'reality',\n",
       " 'cands': '[\"box\", \"suitcase\"]',\n",
       " 'correct': 1,\n",
       " 'falseTrueBelief': True,\n",
       " 'factVsMind': 'mind'}"
      ]
     },
     "execution_count": 6,
     "metadata": {},
     "output_type": "execute_result"
    }
   ],
   "source": [
    "df_tomi = pd.read_csv(\"data/tomi/tomi.csv\")\n",
    "tomi_data = df_tomi.to_dict(orient=\"records\")\n",
    "tomi_data[1]"
   ]
  },
  {
   "cell_type": "code",
   "execution_count": 9,
   "metadata": {},
   "outputs": [],
   "source": [
    "tomi_test = []\n",
    "for data in tomi_data:\n",
    "    item = {\n",
    "        \"uuid\": str(uuid.uuid4()),\n",
    "        \"story\": data[\"story\"],\n",
    "        \"question\": data[\"question\"],\n",
    "        \"answer\": data[\"answer\"],\n",
    "        \"options\": [],\n",
    "        \"metadata\": {\n",
    "            \"task\": \"tomi\",\n",
    "            \"storyHasToM\": data[\"storyHasToM\"],\n",
    "            \"sType\": data[\"sType\"],\n",
    "            \"qOrder\": data[\"qOrder\"],\n",
    "            \"qTypeRaw\": data[\"qTypeRaw\"],\n",
    "            \"qTypeTomOrNot\": data[\"qTypeTomOrNot\"],\n",
    "            \"factVsMind\": data[\"factVsMind\"],\n",
    "        }\n",
    "    }\n",
    "    tomi_test.append(item)"
   ]
  },
  {
   "cell_type": "code",
   "execution_count": 10,
   "metadata": {},
   "outputs": [
    {
     "data": {
      "text/plain": [
       "{'uuid': '06bc4a35-e464-4f0c-882d-7e8a090cf93c',\n",
       " 'story': 'James entered the living room. Hunter entered the living room. The pajamas is in the bucket. James moved the pajamas to the drawer. Hunter exited the living room. Olivia entered the pantry.',\n",
       " 'question': 'Where is the pajamas really?',\n",
       " 'answer': 'drawer',\n",
       " 'options': [],\n",
       " 'metadata': {'task': 'tomi',\n",
       "  'storyHasToM': False,\n",
       "  'sType': 'true_belief',\n",
       "  'qOrder': 'reality',\n",
       "  'qTypeRaw': 'reality',\n",
       "  'qTypeTomOrNot': False,\n",
       "  'factVsMind': 'fact'}}"
      ]
     },
     "execution_count": 10,
     "metadata": {},
     "output_type": "execute_result"
    }
   ],
   "source": [
    "tomi_test[0]"
   ]
  },
  {
   "cell_type": "code",
   "execution_count": 11,
   "metadata": {},
   "outputs": [],
   "source": [
    "write_jsonl(tomi_test, \"data/tomi/test.jsonl\")"
   ]
  },
  {
   "cell_type": "code",
   "execution_count": 37,
   "metadata": {},
   "outputs": [],
   "source": [
    "rels = [\n",
    "    \"son\", \"daughter\",\n",
    "    \"brother\", \"sister\",\n",
    "    \"father\", \"mother\",\n",
    "    \"husband\", \"wife\",\n",
    "    \"grandfather\", \"grandmother\",\n",
    "    \"grandson\", \"granddaughter\",\n",
    "    \"uncle\", \"aunt\",\n",
    "    \"son-in-law\", \"daughter-in-law\",\n",
    "    \"father-in-law\", \"mother-in-law\",\n",
    "    \"brother-in-law\", \"sister-in-law\",\n",
    "    \"nephew\", \"niece\"\n",
    "]\n",
    "\n",
    "persons = [\n",
    "    'A', 'B', 'C', 'D', \n",
    "    'H', 'J', 'K', 'L', \n",
    "    'M', 'N', 'O', 'P', \n",
    "    'Q', 'R', 'S', 'T',\n",
    "    'V', 'X', 'Y', 'Z',]\n",
    "\n",
    "def get_knowledge(tokens):\n",
    "    entitiy = []\n",
    "    relation = None\n",
    "    for tok in tokens:\n",
    "        if tok.isdigit():\n",
    "            entitiy.append(persons[int(tok)-1])\n",
    "        if tok in rels:\n",
    "            relation = tok\n",
    "    assert len(entitiy) == 2\n",
    "    if relation is None:\n",
    "        print(tokens)\n",
    "    return ' '.join(entitiy), relation\n"
   ]
  },
  {
   "cell_type": "code",
   "execution_count": 38,
   "metadata": {},
   "outputs": [],
   "source": [
    "def simplify(dataset):\n",
    "    simple_dataset = copy.deepcopy(dataset)\n",
    "    for data in simple_dataset:\n",
    "        facts = []\n",
    "        for fact in data['facts']:\n",
    "            tokens = fact.split()\n",
    "            entity, relation = get_knowledge(tokens)\n",
    "            facts.append((entity, relation))\n",
    "        data['facts'] = facts\n",
    "        for question in data['questions']:\n",
    "            answer = question[1]\n",
    "            tokens = answer.split()\n",
    "            entity, relation = get_knowledge(tokens)\n",
    "            question[0] = f\"How are {entity[0]} and {entity[-1]} related to each other ?\"\n",
    "            question[1] = entity\n",
    "            assert len(question[0].split()) == 10\n",
    "            question.append(relation)\n",
    "    return simple_dataset"
   ]
  },
  {
   "cell_type": "code",
   "execution_count": 39,
   "metadata": {},
   "outputs": [],
   "source": [
    "simple_clutrr_4 = simplify(clutrr_4)"
   ]
  },
  {
   "cell_type": "code",
   "execution_count": 40,
   "metadata": {},
   "outputs": [],
   "source": [
    "write_jsonl(simple_clutrr_4, \"data/clutrr_4_hop/dev.jsonl\")"
   ]
  },
  {
   "cell_type": "code",
   "execution_count": 41,
   "metadata": {},
   "outputs": [],
   "source": [
    "simple_clutrr_6 = simplify(clutrr_6)"
   ]
  },
  {
   "cell_type": "code",
   "execution_count": 42,
   "metadata": {},
   "outputs": [],
   "source": [
    "write_jsonl(simple_clutrr_6, \"data/clutrr_6_hop/dev.jsonl\")"
   ]
  },
  {
   "cell_type": "code",
   "execution_count": null,
   "metadata": {},
   "outputs": [],
   "source": []
  }
 ],
 "metadata": {
  "kernelspec": {
   "display_name": "Python 3.9.12 ('causal')",
   "language": "python",
   "name": "python3"
  },
  "language_info": {
   "codemirror_mode": {
    "name": "ipython",
    "version": 3
   },
   "file_extension": ".py",
   "mimetype": "text/x-python",
   "name": "python",
   "nbconvert_exporter": "python",
   "pygments_lexer": "ipython3",
   "version": "3.9.12"
  },
  "orig_nbformat": 4,
  "vscode": {
   "interpreter": {
    "hash": "470f44e489c3417f40e6fbafbb8f6893ee0c258fcccc4737e0ea9152abfd2d49"
   }
  }
 },
 "nbformat": 4,
 "nbformat_minor": 2
}
